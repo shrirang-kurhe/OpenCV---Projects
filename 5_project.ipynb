{
 "cells": [
  {
   "cell_type": "markdown",
   "id": "ec7c3ba7",
   "metadata": {},
   "source": [
    "### **Project -5 : Color Detection Projects using OpenCV**"
   ]
  },
  {
   "cell_type": "markdown",
   "id": "579d660e",
   "metadata": {},
   "source": [
    "**cv1_capture videos.py**"
   ]
  },
  {
   "cell_type": "code",
   "execution_count": null,
   "id": "689d8000",
   "metadata": {},
   "outputs": [],
   "source": [
    "#OBJECT DETECTION USING OPENCV \n",
    "\n",
    "#I have 3 object with me 1> red 2> green 3> blue\n",
    "\n",
    "'''How can we detect which color it is and how can way say to the computer only 1 specific color\n",
    "that is what we are going to see using opencv'''\n",
    "\n",
    "import cv2 # package of AI \n",
    "\n",
    "import numpy as np\n",
    "\n",
    "#Lets capture the camera. 0 for webcam. if you want other webcam then we can change to index to 1, 2 \n",
    "cap = cv2.VideoCapture(0) \n",
    "\n",
    "#Lets load the frame \n",
    "while True:\n",
    "    _, frame = cap.read() \n",
    "    \n",
    "    \n",
    "#we convert this format to hsv , bgr library this is color format red, green, blue, we are frame with hsv which use to select the color\n",
    "\n",
    "    hsv_frame = cv2.cvtColor(frame, cv2.COLOR_BGR2HSV)\n",
    "    \n",
    "# Lets frame on the windows   \n",
    "    cv2.imshow(\"Frame\", frame) \n",
    "    \n",
    "# weight key event which is 1 and which is 27 then break the loop that means we are going to stop the loop\n",
    "    key = cv2.waitKey(1)\n",
    "    if key ==27:\n",
    "        break\n",
    "\n",
    "# Lets run this one and we will see the camera, camera is on \n",
    "\n",
    "# Now lets deeper understanding how to detect color now \n",
    "\n",
    "''' HSV --> HUE - we can see the color red,green,blue,yellow and also we can see the gradiation of the color         \n",
    "          SATURATION - How much quantity of the color we want to have \n",
    "          (0- nothing, completely white, opencv - maximux pixel 0-255)\n",
    "          VALUE - Brightness of the color (0- completely black)'''\n",
    "#===========          \n",
    "#Next step is to convert the color format to hsv "
   ]
  },
  {
   "cell_type": "markdown",
   "id": "5a1705c6",
   "metadata": {},
   "source": [
    "**v2_Red color mask.py**"
   ]
  },
  {
   "cell_type": "code",
   "execution_count": null,
   "id": "e60e3a8b",
   "metadata": {},
   "outputs": [],
   "source": [
    "# Only Red color detection\n",
    "\n",
    "import cv2\n",
    "import numpy as np\n",
    "\n",
    "cap = cv2.VideoCapture(0)\n",
    "\n",
    "while True:\n",
    "    _, frame = cap.read()\n",
    "    hsv_frame = cv2.cvtColor(frame, cv2.COLOR_BGR2HSV)\n",
    "\n",
    "    # Red color\n",
    "    low_red = np.array([161, 155, 84]) # lowest hue would be - 161,155,84( how do i found this i tested before and found this) \n",
    "    high_red = np.array([179, 255, 255])\n",
    "    #mask = cv2.inRange(hsv_frame, low_red, high_red) \n",
    "        \n",
    "    red_mask = cv2.inRange(hsv_frame, low_red, high_red) #we create maskk on hsv frame and then low red or high red\n",
    "    red = cv2.bitwise_and(frame, frame, mask=red_mask)\n",
    "\n",
    "\n",
    "    cv2.imshow(\"Frame\", frame) \n",
    "    #cv2.imshow('Red mask', mask) \n",
    "    cv2.imshow('Red', red)\n",
    "    \n",
    "    \n",
    "    key = cv2.waitKey(1)\n",
    "    if key ==27:\n",
    "        break"
   ]
  },
  {
   "cell_type": "markdown",
   "id": "2a0d2f19",
   "metadata": {},
   "source": [
    "**cv_3 Blue color mask.py**"
   ]
  },
  {
   "cell_type": "code",
   "execution_count": null,
   "id": "a7eaf54e",
   "metadata": {},
   "outputs": [],
   "source": [
    "# Only Blue color Detection\n",
    "\n",
    "\n",
    "import cv2\n",
    "import numpy as np\n",
    "\n",
    "cap = cv2.VideoCapture(0)\n",
    "\n",
    "while True:\n",
    "    _, frame = cap.read()\n",
    "    hsv_frame = cv2.cvtColor(frame, cv2.COLOR_BGR2HSV)\n",
    "    \n",
    "    \n",
    "    #Blue color \n",
    "    \n",
    "    low_blue = np.array([94, 80, 2])\n",
    "    high_blue = np.array([126, 255, 255])\n",
    "    blue_mask = cv2.inRange(hsv_frame, low_blue, high_blue)\n",
    "    blue = cv2.bitwise_and(frame, frame, mask=blue_mask)\n",
    "\n",
    "    cv2.imshow(\"Frame\", frame) \n",
    "    cv2.imshow('Blue', blue)\n",
    "    \n",
    "    \n",
    "    key = cv2.waitKey(1)\n",
    "    if key ==27:\n",
    "        break"
   ]
  },
  {
   "cell_type": "markdown",
   "id": "8f953592",
   "metadata": {},
   "source": [
    "**cv_4 Green color mask.py**"
   ]
  },
  {
   "cell_type": "code",
   "execution_count": null,
   "id": "336b894c",
   "metadata": {},
   "outputs": [],
   "source": [
    "# Only Green Color \n",
    "\n",
    "import cv2\n",
    "import numpy as np\n",
    "\n",
    "cap = cv2.VideoCapture(0)\n",
    "\n",
    "while True:\n",
    "    _, frame = cap.read()\n",
    "    hsv_frame = cv2.cvtColor(frame, cv2.COLOR_BGR2HSV)\n",
    "    \n",
    "    \n",
    "    # Green color\n",
    "    low_green = np.array([25, 52, 72])\n",
    "    high_green = np.array([102, 255, 255])\n",
    "    green_mask = cv2.inRange(hsv_frame, low_green, high_green)\n",
    "    green = cv2.bitwise_and(frame, frame, mask=green_mask)\n",
    "\n",
    "    cv2.imshow(\"Frame\", frame) \n",
    "    cv2.imshow('Green', green)\n",
    "    \n",
    "    \n",
    "    key = cv2.waitKey(1)\n",
    "    if key ==27:\n",
    "        break\n"
   ]
  },
  {
   "cell_type": "markdown",
   "id": "4c9d376a",
   "metadata": {},
   "source": [
    "**cv_5 Every color except white mask**"
   ]
  },
  {
   "cell_type": "code",
   "execution_count": null,
   "id": "490090b0",
   "metadata": {},
   "outputs": [],
   "source": [
    "# Every color except White \n",
    "\n",
    "import cv2\n",
    "import numpy as np\n",
    "\n",
    "cap = cv2.VideoCapture(0)\n",
    "\n",
    "while True:\n",
    "    _, frame = cap.read()\n",
    "    hsv_frame = cv2.cvtColor(frame, cv2.COLOR_BGR2HSV)\n",
    "    \n",
    "    \n",
    "    #Every color except white\n",
    "    low = np.array([0, 42, 0]) \n",
    "    high = np.array([179, 255, 255])\n",
    "    mask = cv2.inRange(hsv_frame, low, high)\n",
    "    result = cv2.bitwise_and(frame, frame, mask=mask)\n",
    "\n",
    "    cv2.imshow(\"Frame\", frame) \n",
    "    cv2.imshow('Result', result)\n",
    "    \n",
    "    \n",
    "    key = cv2.waitKey(1)\n",
    "    if key ==27:\n",
    "        break"
   ]
  }
 ],
 "metadata": {
  "kernelspec": {
   "display_name": "Python 3",
   "language": "python",
   "name": "python3"
  },
  "language_info": {
   "name": "python",
   "version": "3.12.4"
  }
 },
 "nbformat": 4,
 "nbformat_minor": 5
}
