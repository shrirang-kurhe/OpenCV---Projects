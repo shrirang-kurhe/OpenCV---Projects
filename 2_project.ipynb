{
 "cells": [
  {
   "cell_type": "markdown",
   "id": "8b0159f2",
   "metadata": {},
   "source": [
    "### **Project 2: Face, Multiface, No face detection using harrcascade and opencv**"
   ]
  },
  {
   "cell_type": "markdown",
   "id": "7bdb888d",
   "metadata": {},
   "source": [
    "import numpy as np\n",
    "import cv2\n",
    "\n",
    "# Load the haar cascade for face detection\n",
    "face_classifier = cv2.CascadeClassifier(r\"C:\\Users\\Shree\\OneDrive\\#1 OPENCV\\#2 Face & Eye Detection\\haarcascade_frontalface_default.xml\")\n",
    "\n",
    "\n",
    "# Load the image in the form of numpy array\n",
    "\n",
    "# for single face\n",
    "# image = cv2.imread(r\"C:\\Users\\Shree\\OneDrive\\#2 Face & Eye Detection\\Modi.jpg\")\n",
    "# for multiple face\n",
    "image = cv2.imread(r\"C:\\Users\\Shree\\OneDrive\\#2 DL\\#3 Computer Vision\\#1 OPENCV\\#2 Face & Eye Detection\\360_F_320429540_jgtTXPfKnBczyB3f.jpg\")\n",
    "# for no face\n",
    "# image = cv2.imread(r\"C:\\Users\\Shree\\OneDrive\\#2 DL\\#3 Computer Vision\\#1 OPENCV\\#2 Face & Eye Detection\\image.png\")\n",
    "\n",
    "# Check if image is loaded correctly\n",
    "if image is None:\n",
    "    print(\"Error loading image\")\n",
    "    exit() # exit if image is not loaded\n",
    "    \n",
    "\n",
    "# Convert the image to grayscale\n",
    "gray = cv2.cvtColor(image, cv2.COLOR_BGR2GRAY)\n",
    "\n",
    "\n",
    "# Detect faces in the image\n",
    "faces = face_classifier.detectMultiScale(gray, 1.3, 5)\n",
    "\n",
    "\n",
    "# Check if any faces are detected\n",
    "if len(faces) == 0:\n",
    "    print(\"No faces found!\")\n",
    "    \n",
    "else:\n",
    "    # Draw rectangles around the faces\n",
    "    for (x, y, w, h) in faces:\n",
    "        cv2.rectangle(image, (x, y), (x + w, y + h), (127, 0, 255), 2)\n",
    "        \n",
    "    # Show the image with detected faces\n",
    "    cv2.imshow(\"Detected Faces\", image)\n",
    "    cv2.waitKey(0)\n",
    "    \n",
    "# Close all OpenCV windows    \n",
    "cv2.destroyAllWindows()"
   ]
  }
 ],
 "metadata": {
  "language_info": {
   "name": "python"
  }
 },
 "nbformat": 4,
 "nbformat_minor": 5
}
