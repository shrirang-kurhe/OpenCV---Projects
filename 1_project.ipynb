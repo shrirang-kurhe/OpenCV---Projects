{
 "cells": [
  {
   "cell_type": "markdown",
   "id": "7a389655",
   "metadata": {},
   "source": [
    "### **Project 1- Read, Write, Display Image using OPENCV**"
   ]
  },
  {
   "cell_type": "code",
   "execution_count": 1,
   "id": "dd984af3",
   "metadata": {},
   "outputs": [],
   "source": [
    "# Importing libraries\n",
    "import cv2\n",
    "import numpy as np"
   ]
  },
  {
   "cell_type": "code",
   "execution_count": null,
   "id": "d0ca70a5",
   "metadata": {},
   "outputs": [
    {
     "data": {
      "text/plain": [
       "array([[[197, 142, 145],\n",
       "        [197, 142, 145],\n",
       "        [195, 142, 145],\n",
       "        ...,\n",
       "        [137,  27,  27],\n",
       "        [137,  27,  27],\n",
       "        [138,  28,  28]],\n",
       "\n",
       "       [[196, 141, 144],\n",
       "        [196, 141, 144],\n",
       "        [197, 142, 145],\n",
       "        ...,\n",
       "        [137,  27,  27],\n",
       "        [138,  28,  28],\n",
       "        [138,  28,  28]],\n",
       "\n",
       "       [[198, 141, 142],\n",
       "        [196, 142, 142],\n",
       "        [196, 142, 142],\n",
       "        ...,\n",
       "        [136,  28,  27],\n",
       "        [138,  28,  28],\n",
       "        [138,  28,  28]],\n",
       "\n",
       "       ...,\n",
       "\n",
       "       [[130, 149, 152],\n",
       "        [129, 149, 154],\n",
       "        [126, 148, 159],\n",
       "        ...,\n",
       "        [173, 136,  80],\n",
       "        [174, 138,  78],\n",
       "        [177, 142,  79]],\n",
       "\n",
       "       [[128, 151, 153],\n",
       "        [126, 151, 155],\n",
       "        [123, 150, 160],\n",
       "        ...,\n",
       "        [174, 128,  80],\n",
       "        [179, 133,  85],\n",
       "        [184, 139,  88]],\n",
       "\n",
       "       [[127, 152, 154],\n",
       "        [125, 152, 156],\n",
       "        [122, 150, 161],\n",
       "        ...,\n",
       "        [185, 134,  91],\n",
       "        [181, 132,  88],\n",
       "        [182, 133,  89]]], dtype=uint8)"
      ]
     },
     "execution_count": 2,
     "metadata": {},
     "output_type": "execute_result"
    }
   ],
   "source": [
    "# Reading an image in the form of numpy array\n",
    "input = cv2.imread(r\"C:\\Users\\Shree\\OneDrive\\Pictures\\Saved Pictures\\Images\\WhatsApp Image 2025-06-12 at 12.03.09_3d40284f.jpg\")\n",
    "input"
   ]
  },
  {
   "cell_type": "code",
   "execution_count": 3,
   "id": "7b1864ca",
   "metadata": {},
   "outputs": [],
   "source": [
    "cv2.imshow('Baby', input) # Only this line shows kernel is died\n",
    "cv2.waitKey() # The new window will open for infinity time\n",
    "cv2.destroyAllWindows() # destroy the window "
   ]
  },
  {
   "cell_type": "code",
   "execution_count": 4,
   "id": "dba88a13",
   "metadata": {},
   "outputs": [
    {
     "name": "stdout",
     "output_type": "stream",
     "text": [
      "Height of Image: 1280 pixels\n",
      "Weight of Image: 720 pixels\n"
     ]
    }
   ],
   "source": [
    "# Check height and width\n",
    "print('Height of Image:', int(input.shape[0]), 'pixels')\n",
    "print('Weight of Image:', int(input.shape[1]), 'pixels')"
   ]
  },
  {
   "cell_type": "code",
   "execution_count": 5,
   "id": "6e3d7249",
   "metadata": {},
   "outputs": [
    {
     "data": {
      "text/plain": [
       "True"
      ]
     },
     "execution_count": 5,
     "metadata": {},
     "output_type": "execute_result"
    }
   ],
   "source": [
    "# Saving the image in that path and name\n",
    "cv2.imwrite(r\"C:\\Users\\Shree\\OneDrive\\Pictures\\Saved Pictures\\Images\\baby.jpg\", input)"
   ]
  },
  {
   "cell_type": "markdown",
   "id": "0be2de96",
   "metadata": {},
   "source": [
    "### This project demonstrates the foundational operations of image processing using OpenCV in Python. It focuses on reading an image from the local system, displaying it in a window, and saving the processed image to disk."
   ]
  },
  {
   "cell_type": "markdown",
   "id": "fffd3a02",
   "metadata": {},
   "source": [
    "### **What I Learned:**\n",
    "How image data is handled in OpenCV\n",
    "\n",
    "Working with image file formats (e.g., .jpg, .png)\n",
    "\n",
    "Basics of GUI window operations in OpenCV\n",
    "\n",
    "Importance of waiting for a key event before closing the image window"
   ]
  }
 ],
 "metadata": {
  "kernelspec": {
   "display_name": "Python 3",
   "language": "python",
   "name": "python3"
  },
  "language_info": {
   "codemirror_mode": {
    "name": "ipython",
    "version": 3
   },
   "file_extension": ".py",
   "mimetype": "text/x-python",
   "name": "python",
   "nbconvert_exporter": "python",
   "pygments_lexer": "ipython3",
   "version": "3.12.4"
  }
 },
 "nbformat": 4,
 "nbformat_minor": 5
}
